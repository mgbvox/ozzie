{
 "cells": [
  {
   "cell_type": "code",
   "execution_count": 36,
   "metadata": {},
   "outputs": [
    {
     "name": "stdout",
     "output_type": "stream",
     "text": [
      "['test', 'tets', 'tset', 'tste', 'ttes', 'ttse', 'etst', 'etts', 'estt', 'estt', 'etts', 'etst', 'stet', 'stte', 'sett', 'sett', 'stte', 'stet', 'ttes', 'ttse', 'tets', 'test', 'tste', 'tset']\n"
     ]
    }
   ],
   "source": [
    "def permutations(v, is_top = True):\n",
    "    if len(v) == 0 or len(v) == 1:\n",
    "        return [v]\n",
    "    p_list = []\n",
    "    for idx,l in enumerate(v):\n",
    "        rest = [j for i,j in enumerate(v) if i != idx]\n",
    "        perms = permutations(rest, is_top=False)\n",
    "        for perm in perms:\n",
    "            p_list.append([l]+perm)\n",
    "    return p_list\n",
    "\n",
    "print([''.join(i) for i in permutations('test')])"
   ]
  },
  {
   "cell_type": "code",
   "execution_count": null,
   "metadata": {},
   "outputs": [],
   "source": []
  }
 ],
 "metadata": {
  "kernelspec": {
   "display_name": "Python 3",
   "language": "python",
   "name": "python3"
  },
  "language_info": {
   "codemirror_mode": {
    "name": "ipython",
    "version": 3
   },
   "file_extension": ".py",
   "mimetype": "text/x-python",
   "name": "python",
   "nbconvert_exporter": "python",
   "pygments_lexer": "ipython3",
   "version": "3.7.1"
  }
 },
 "nbformat": 4,
 "nbformat_minor": 2
}
