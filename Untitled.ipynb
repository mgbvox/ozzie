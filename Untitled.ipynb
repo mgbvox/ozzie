{
 "cells": [
  {
   "cell_type": "code",
   "execution_count": 29,
   "metadata": {},
   "outputs": [],
   "source": [
    "def permutations(v, is_top = True):\n",
    "    if len(v) == 0 or len(v) == 1:\n",
    "        return [v]\n",
    "    p_list = []\n",
    "    for idx,l in enumerate(v):\n",
    "        rest = [j for i,j in enumerate(v) if i != idx]\n",
    "        perms = permutations(rest, is_top=False)\n",
    "        for perm in perms:\n",
    "            p_list.append([l]+perm)\n",
    "    return p_list"
   ]
  },
  {
   "cell_type": "code",
   "execution_count": 35,
   "metadata": {},
   "outputs": [
    {
     "data": {
      "text/plain": [
       "['test',\n",
       " 'tets',\n",
       " 'tset',\n",
       " 'tste',\n",
       " 'ttes',\n",
       " 'ttse',\n",
       " 'etst',\n",
       " 'etts',\n",
       " 'estt',\n",
       " 'estt',\n",
       " 'etts',\n",
       " 'etst',\n",
       " 'stet',\n",
       " 'stte',\n",
       " 'sett',\n",
       " 'sett',\n",
       " 'stte',\n",
       " 'stet',\n",
       " 'ttes',\n",
       " 'ttse',\n",
       " 'tets',\n",
       " 'test',\n",
       " 'tste',\n",
       " 'tset']"
      ]
     },
     "execution_count": 35,
     "metadata": {},
     "output_type": "execute_result"
    }
   ],
   "source": [
    "[''.join(i) for i in permutations('test')]"
   ]
  },
  {
   "cell_type": "code",
   "execution_count": null,
   "metadata": {},
   "outputs": [],
   "source": []
  }
 ],
 "metadata": {
  "kernelspec": {
   "display_name": "Python 3",
   "language": "python",
   "name": "python3"
  },
  "language_info": {
   "codemirror_mode": {
    "name": "ipython",
    "version": 3
   },
   "file_extension": ".py",
   "mimetype": "text/x-python",
   "name": "python",
   "nbconvert_exporter": "python",
   "pygments_lexer": "ipython3",
   "version": "3.7.1"
  }
 },
 "nbformat": 4,
 "nbformat_minor": 2
}
